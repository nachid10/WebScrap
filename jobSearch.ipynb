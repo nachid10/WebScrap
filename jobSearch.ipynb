{
 "cells": [
  {
   "cell_type": "code",
   "execution_count": 211,
   "metadata": {},
   "outputs": [],
   "source": [
    "import csv\n",
    "import pandas as pd\n",
    "import selenium.webdriver as wb\n",
    "from selenium.webdriver.common.keys import Keys\n",
    "from selenium.webdriver.chrome.options import Options\n",
    "from selenium.webdriver.common.by import By"
   ]
  },
  {
   "cell_type": "markdown",
   "metadata": {},
   "source": [
    "### Initalize the driver"
   ]
  },
  {
   "cell_type": "code",
   "execution_count": 212,
   "metadata": {},
   "outputs": [
    {
     "name": "stderr",
     "output_type": "stream",
     "text": [
      "/var/folders/9k/vqf0l6gx3qdgfnksdtddq46c0000gn/T/ipykernel_42546/1166678971.py:3: DeprecationWarning: executable_path has been deprecated, please pass in a Service object\n",
      "  driver = wb.Chrome('/Users/nachi/Downloads/chromedriver',options=options)\n"
     ]
    }
   ],
   "source": [
    "options = Options()\n",
    "options.headless = True\n",
    "driver = wb.Chrome('/Users/nachi/Downloads/chromedriver',options=options)\n",
    "driver.get('https://www.indeed.com')"
   ]
  },
  {
   "cell_type": "markdown",
   "metadata": {},
   "source": [
    "#### Search for the job title"
   ]
  },
  {
   "cell_type": "code",
   "execution_count": 213,
   "metadata": {},
   "outputs": [
    {
     "name": "stderr",
     "output_type": "stream",
     "text": [
      "/var/folders/9k/vqf0l6gx3qdgfnksdtddq46c0000gn/T/ipykernel_42546/3333589221.py:1: DeprecationWarning: find_element_by_xpath is deprecated. Please use find_element(by=By.XPATH, value=xpath) instead\n",
      "  search = driver.find_element_by_xpath('//*[@id=\"text-input-what\"]')\n",
      "/var/folders/9k/vqf0l6gx3qdgfnksdtddq46c0000gn/T/ipykernel_42546/3333589221.py:4: DeprecationWarning: find_element_by_xpath is deprecated. Please use find_element(by=By.XPATH, value=xpath) instead\n",
      "  where = driver.find_element_by_xpath('//*[@id=\"text-input-where\"]')\n"
     ]
    }
   ],
   "source": [
    "search = driver.find_element_by_xpath('//*[@id=\"text-input-what\"]')\n",
    "# searching job for Data Science Internships\n",
    "search.send_keys('Data Science intern')\n",
    "where = driver.find_element_by_xpath('//*[@id=\"text-input-where\"]')\n",
    "a = where.text\n",
    "# reset the job location\n",
    "for i in range(15):\n",
    "    where.send_keys(Keys.BACK_SPACE)"
   ]
  },
  {
   "cell_type": "code",
   "execution_count": 214,
   "metadata": {},
   "outputs": [
    {
     "name": "stderr",
     "output_type": "stream",
     "text": [
      "/var/folders/9k/vqf0l6gx3qdgfnksdtddq46c0000gn/T/ipykernel_42546/3108512475.py:1: DeprecationWarning: find_element_by_xpath is deprecated. Please use find_element(by=By.XPATH, value=xpath) instead\n",
      "  sub = driver.find_element_by_xpath('//*[@id=\"jobsearch\"]/button')\n"
     ]
    }
   ],
   "source": [
    "sub = driver.find_element_by_xpath('//*[@id=\"jobsearch\"]/button')\n",
    "sub.submit()"
   ]
  },
  {
   "cell_type": "code",
   "execution_count": 215,
   "metadata": {},
   "outputs": [],
   "source": [
    "#jobs = driver.find_element_by_class_name('jcs-JobTitle')\n",
    "jobs = driver.find_elements(by=By.CLASS_NAME, value='jcs-JobTitle')\n",
    "jobTitle = []\n",
    "for job in jobs:\n",
    "    jobTitle.append(job.text)"
   ]
  },
  {
   "cell_type": "code",
   "execution_count": 216,
   "metadata": {},
   "outputs": [],
   "source": [
    "companies = driver.find_elements(by=By.CLASS_NAME, value='companyName')\n",
    "jobCompany = []\n",
    "for company in companies:\n",
    "    jobCompany.append(company.text)"
   ]
  },
  {
   "cell_type": "code",
   "execution_count": 217,
   "metadata": {},
   "outputs": [],
   "source": [
    "locations= driver.find_elements(by=By.CLASS_NAME, value='companyLocation')\n",
    "jobLocation = []\n",
    "for location in locations:\n",
    "    jobLocation.append(location.text)"
   ]
  },
  {
   "cell_type": "code",
   "execution_count": 218,
   "metadata": {},
   "outputs": [],
   "source": [
    "descriptions = driver.find_elements(by=By.CLASS_NAME, value='jobsearch-jobDescriptionText')\n",
    "#descriptions = driver.find_elements(by=By.ID, value='jobDescriptionText')"
   ]
  },
  {
   "cell_type": "code",
   "execution_count": 219,
   "metadata": {},
   "outputs": [
    {
     "name": "stdout",
     "output_type": "stream",
     "text": [
      "['Cincinnati, OH', 'Remote', 'New York, NY\\n+1 location', 'Troy, MI', 'Lake Success, NY', 'Pennsylvania', 'Sunnyvale, CA 94085\\n(East Murphy area)', 'Champaign, IL', 'Remote in New York, NY 10013', 'Remote', 'Remote in Santa Barbara, CA', 'New York, NY', 'Remote in Lincolnshire, IL 60069\\n+1 location', 'Santa Clara, CA', 'Boston, MA']\n",
      "['Triangulate Labs', 'Signify', 'Tiffany & Co', 'Altair Engineering', 'Northwell Health', 'Highmark Health', 'Bosch Group', 'Cargill', 'Level', 'Cognosante, LLC', 'Invoca', 'AiCure', 'Camping World', 'NVIDIA', 'Schneider Electric']\n",
      "['Computer Vision / Data Science Intern', 'Data Science Intern - Fall 2022', 'Internship, Data Science', 'Data Science Intern', 'Data Analytics / Data Science Intern', 'ML Ops and Research Data Science - Graduate Intern', 'Data Science Intern- Forecasting', 'Data Science Demand Forecasting Intern at UIUC Research Park...', 'Data Science Intern', 'Summer Analyst Internship Program (Remote)', 'Data Science Internship', 'Student Intern Data Science', 'Pricing Data Science Intern', 'Data Science Intern, Recommender Systems', 'Data Science Intern']\n"
     ]
    }
   ],
   "source": [
    "print(jobLocation)\n",
    "print(jobCompany)\n",
    "print(jobTitle)"
   ]
  },
  {
   "cell_type": "markdown",
   "metadata": {},
   "source": [
    "### Combining the three lists into one"
   ]
  },
  {
   "cell_type": "code",
   "execution_count": 236,
   "metadata": {},
   "outputs": [
    {
     "name": "stdout",
     "output_type": "stream",
     "text": [
      "[('Computer Vision / Data Science Intern', 'Triangulate Labs', 'Cincinnati, OH'), ('Data Science Intern - Fall 2022', 'Signify', 'Remote'), ('Internship, Data Science', 'Tiffany & Co', 'New York, NY\\n+1 location'), ('Data Science Intern', 'Altair Engineering', 'Troy, MI'), ('Data Analytics / Data Science Intern', 'Northwell Health', 'Lake Success, NY'), ('ML Ops and Research Data Science - Graduate Intern', 'Highmark Health', 'Pennsylvania'), ('Data Science Intern- Forecasting', 'Bosch Group', 'Sunnyvale, CA 94085\\n(East Murphy area)'), ('Data Science Demand Forecasting Intern at UIUC Research Park...', 'Cargill', 'Champaign, IL'), ('Data Science Intern', 'Level', 'Remote in New York, NY 10013'), ('Summer Analyst Internship Program (Remote)', 'Cognosante, LLC', 'Remote'), ('Data Science Internship', 'Invoca', 'Remote in Santa Barbara, CA'), ('Student Intern Data Science', 'AiCure', 'New York, NY'), ('Pricing Data Science Intern', 'Camping World', 'Remote in Lincolnshire, IL 60069\\n+1 location'), ('Data Science Intern, Recommender Systems', 'NVIDIA', 'Santa Clara, CA'), (14, 'Schneider Electric', 'Boston, MA')]\n"
     ]
    }
   ],
   "source": [
    "combinedInfo = list(zip(jobTitle,jobCompany,jobLocation))\n",
    "print(combinedInfo)"
   ]
  },
  {
   "cell_type": "code",
   "execution_count": 241,
   "metadata": {},
   "outputs": [
    {
     "name": "stdout",
     "output_type": "stream",
     "text": [
      "                                                    0                   1  \\\n",
      "0               Computer Vision / Data Science Intern    Triangulate Labs   \n",
      "1                     Data Science Intern - Fall 2022             Signify   \n",
      "2                            Internship, Data Science        Tiffany & Co   \n",
      "3                                 Data Science Intern  Altair Engineering   \n",
      "4                Data Analytics / Data Science Intern    Northwell Health   \n",
      "5   ML Ops and Research Data Science - Graduate In...     Highmark Health   \n",
      "6                    Data Science Intern- Forecasting         Bosch Group   \n",
      "7   Data Science Demand Forecasting Intern at UIUC...             Cargill   \n",
      "8                                 Data Science Intern               Level   \n",
      "9          Summer Analyst Internship Program (Remote)     Cognosante, LLC   \n",
      "10                            Data Science Internship              Invoca   \n",
      "11                        Student Intern Data Science              AiCure   \n",
      "12                        Pricing Data Science Intern       Camping World   \n",
      "13           Data Science Intern, Recommender Systems              NVIDIA   \n",
      "14                                                 14  Schneider Electric   \n",
      "\n",
      "                                                2  \n",
      "0                                  Cincinnati, OH  \n",
      "1                                          Remote  \n",
      "2                       New York, NY\\n+1 location  \n",
      "3                                        Troy, MI  \n",
      "4                                Lake Success, NY  \n",
      "5                                    Pennsylvania  \n",
      "6         Sunnyvale, CA 94085\\n(East Murphy area)  \n",
      "7                                   Champaign, IL  \n",
      "8                    Remote in New York, NY 10013  \n",
      "9                                          Remote  \n",
      "10                    Remote in Santa Barbara, CA  \n",
      "11                                   New York, NY  \n",
      "12  Remote in Lincolnshire, IL 60069\\n+1 location  \n",
      "13                                Santa Clara, CA  \n",
      "14                                     Boston, MA  \n"
     ]
    }
   ],
   "source": [
    "df = pd.DataFrame(combinedInfo)\n",
    "print(df)"
   ]
  },
  {
   "cell_type": "markdown",
   "metadata": {},
   "source": [
    "#### An Alternate approach"
   ]
  },
  {
   "cell_type": "code",
   "execution_count": 243,
   "metadata": {},
   "outputs": [
    {
     "name": "stdout",
     "output_type": "stream",
     "text": [
      "                                                Title             Company  \\\n",
      "0               Computer Vision / Data Science Intern    Triangulate Labs   \n",
      "1                     Data Science Intern - Fall 2022             Signify   \n",
      "2                            Internship, Data Science        Tiffany & Co   \n",
      "3                                 Data Science Intern  Altair Engineering   \n",
      "4                Data Analytics / Data Science Intern    Northwell Health   \n",
      "5   ML Ops and Research Data Science - Graduate In...     Highmark Health   \n",
      "6                    Data Science Intern- Forecasting         Bosch Group   \n",
      "7   Data Science Demand Forecasting Intern at UIUC...             Cargill   \n",
      "8                                 Data Science Intern               Level   \n",
      "9          Summer Analyst Internship Program (Remote)     Cognosante, LLC   \n",
      "10                            Data Science Internship              Invoca   \n",
      "11                        Student Intern Data Science              AiCure   \n",
      "12                        Pricing Data Science Intern       Camping World   \n",
      "13           Data Science Intern, Recommender Systems              NVIDIA   \n",
      "14                                                 14  Schneider Electric   \n",
      "\n",
      "                                         Location  \n",
      "0                                  Cincinnati, OH  \n",
      "1                                          Remote  \n",
      "2                       New York, NY\\n+1 location  \n",
      "3                                        Troy, MI  \n",
      "4                                Lake Success, NY  \n",
      "5                                    Pennsylvania  \n",
      "6         Sunnyvale, CA 94085\\n(East Murphy area)  \n",
      "7                                   Champaign, IL  \n",
      "8                    Remote in New York, NY 10013  \n",
      "9                                          Remote  \n",
      "10                    Remote in Santa Barbara, CA  \n",
      "11                                   New York, NY  \n",
      "12  Remote in Lincolnshire, IL 60069\\n+1 location  \n",
      "13                                Santa Clara, CA  \n",
      "14                                     Boston, MA  \n"
     ]
    }
   ],
   "source": [
    "df1 = pd.DataFrame({'Title' : jobTitle, 'Company' : jobCompany , 'Location' : jobLocation})\n",
    "print(df1)"
   ]
  },
  {
   "cell_type": "markdown",
   "metadata": {},
   "source": [
    "####  Saving the data into CSV files for later use"
   ]
  },
  {
   "cell_type": "code",
   "execution_count": 244,
   "metadata": {},
   "outputs": [],
   "source": [
    "df1.to_csv('jobs.csv')"
   ]
  }
 ],
 "metadata": {
  "interpreter": {
   "hash": "aee8b7b246df8f9039afb4144a1f6fd8d2ca17a180786b69acc140d282b71a49"
  },
  "kernelspec": {
   "display_name": "Python 3.10.4 64-bit",
   "language": "python",
   "name": "python3"
  },
  "language_info": {
   "codemirror_mode": {
    "name": "ipython",
    "version": 3
   },
   "file_extension": ".py",
   "mimetype": "text/x-python",
   "name": "python",
   "nbconvert_exporter": "python",
   "pygments_lexer": "ipython3",
   "version": "3.10.4"
  },
  "orig_nbformat": 4
 },
 "nbformat": 4,
 "nbformat_minor": 2
}
